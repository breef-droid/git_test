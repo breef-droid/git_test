{
  "nbformat": 4,
  "nbformat_minor": 0,
  "metadata": {
    "colab": {
      "name": "Codewars.ipynb",
      "provenance": [],
      "collapsed_sections": [],
      "authorship_tag": "ABX9TyNwsTMRPTT17OMEJ737u1ou",
      "include_colab_link": true
    },
    "kernelspec": {
      "name": "python3",
      "display_name": "Python 3"
    },
    "language_info": {
      "name": "python"
    }
  },
  "cells": [
    {
      "cell_type": "markdown",
      "metadata": {
        "id": "view-in-github",
        "colab_type": "text"
      },
      "source": [
        "<a href=\"https://colab.research.google.com/github/breef-droid/git_test/blob/main/Codewars.ipynb\" target=\"_parent\"><img src=\"https://colab.research.google.com/assets/colab-badge.svg\" alt=\"Open In Colab\"/></a>"
      ]
    },
    {
      "cell_type": "markdown",
      "metadata": {
        "id": "gwNrVdLsRX9o"
      },
      "source": [
        "### Sum of parts\n",
        "#### https://www.codewars.com/kata/5ce399e0047a45001c853c2b/train/python"
      ]
    },
    {
      "cell_type": "code",
      "metadata": {
        "id": "sp568C4cOZUg"
      },
      "source": [
        "def parts_sums(ls):\n",
        "    result = [sum(ls)]\n",
        "    for item in ls:\n",
        "        result.append(result[-1] - item)\n",
        "    return result\n",
        "\n",
        "    \n"
      ],
      "execution_count": null,
      "outputs": []
    },
    {
      "cell_type": "code",
      "metadata": {
        "colab": {
          "base_uri": "https://localhost:8080/"
        },
        "id": "1LsbPpc-RhMO",
        "outputId": "c8ed54b7-7bce-4b4a-9557-11faa30e5632"
      },
      "source": [
        "ls = [0, 1, 3, 6, 10]\n",
        "parts_sums(ls)"
      ],
      "execution_count": null,
      "outputs": [
        {
          "output_type": "execute_result",
          "data": {
            "text/plain": [
              "[20, 20, 19, 16, 10, 0]"
            ]
          },
          "metadata": {},
          "execution_count": 60
        }
      ]
    },
    {
      "cell_type": "markdown",
      "metadata": {
        "id": "Z3m_18GplGh5"
      },
      "source": [
        "### Buying a car\n",
        "#### https://www.codewars.com/kata/554a44516729e4d80b000012/train/python"
      ]
    },
    {
      "cell_type": "code",
      "metadata": {
        "id": "hysFaye6RyvG"
      },
      "source": [
        "def nbMonths(startPriceOld, startPriceNew, savingperMonth, percentLossByMonth):\n",
        "    # your code\n",
        "    trade_price = -1\n",
        "    month = 0\n",
        "    savings = 0\n",
        "\n",
        "    if startPriceOld >= startPriceNew:\n",
        "        return [0, startPriceOld - startPriceNew]\n",
        "\n",
        "    while trade_price < 0:\n",
        "        savings += savingperMonth\n",
        "        if month % 2 == 0:\n",
        "            percentLossByMonth = percentLossByMonth\n",
        "        elif month % 2 == 1:\n",
        "            percentLossByMonth += 0.5\n",
        "        startPriceOld = startPriceOld * (1 - percentLossByMonth/100)\n",
        "        startPriceNew = startPriceNew * (1 - percentLossByMonth/100)\n",
        "        trade_price = (startPriceOld - startPriceNew) + savings\n",
        "        month += 1\n",
        "        print(f'Month: {month}, OldPrice: {startPriceOld}, NewPrice: {startPriceNew}, %depn {percentLossByMonth}, Trade {trade_price}')\n",
        "    return [month, round(trade_price, 0)]\n",
        "        \n",
        "# def calc_price(startPriceOld, startPriceNew, savingperMonth, percentLossByMonth):\n",
        "#     return (startPriceOld * (1-percentLossByMonth/100) - startPriceNew * (1-percentLossByMonth/100) + savingperMonth)"
      ],
      "execution_count": null,
      "outputs": []
    },
    {
      "cell_type": "code",
      "metadata": {
        "colab": {
          "base_uri": "https://localhost:8080/"
        },
        "id": "MQWwMJH0mEQ6",
        "outputId": "d5b670c8-28b4-488b-e0ae-32eaf7c9921e"
      },
      "source": [
        "nbMonths(2000, 8000, 1000, 1.5)"
      ],
      "execution_count": null,
      "outputs": [
        {
          "output_type": "stream",
          "name": "stdout",
          "text": [
            "Month: 1, OldPrice: 1970.0, NewPrice: 7880.0, %depn 1.5, Trade -4910.0\n",
            "Month: 2, OldPrice: 1930.6, NewPrice: 7722.4, %depn 2.0, Trade -3791.7999999999993\n",
            "Month: 3, OldPrice: 1891.9879999999998, NewPrice: 7567.951999999999, %depn 2.0, Trade -2675.964\n",
            "Month: 4, OldPrice: 1844.6882999999998, NewPrice: 7378.753199999999, %depn 2.5, Trade -1534.0648999999994\n",
            "Month: 5, OldPrice: 1798.5710924999998, NewPrice: 7194.284369999999, %depn 2.5, Trade -395.7132774999991\n",
            "Month: 6, OldPrice: 1744.6139597249999, NewPrice: 6978.455838899999, %depn 3.0, Trade 766.1581208250009\n"
          ]
        },
        {
          "output_type": "execute_result",
          "data": {
            "text/plain": [
              "[6, 766.1581208250009]"
            ]
          },
          "metadata": {},
          "execution_count": 8
        }
      ]
    },
    {
      "cell_type": "markdown",
      "metadata": {
        "id": "ZbLzVeq7ci_L"
      },
      "source": [
        "### Multiplication Table\n",
        "#### https://www.codewars.com/kata/534d2f5b5371ecf8d2000a08/train/python"
      ]
    },
    {
      "cell_type": "code",
      "metadata": {
        "id": "rPdYT-6Xn-xP"
      },
      "source": [
        "def multiplication_table(size):\n",
        "    res = []\n",
        "    for num_row in range(1, size + 1):\n",
        "        row_table = []\n",
        "        for num_column in range(1, size + 1):\n",
        "            row_table.append(num_row * num_column)\n",
        "        res.append(row_table)\n",
        "    return res"
      ],
      "execution_count": null,
      "outputs": []
    },
    {
      "cell_type": "code",
      "metadata": {
        "colab": {
          "base_uri": "https://localhost:8080/"
        },
        "id": "HsOwG7mWc10Y",
        "outputId": "f2c37bf2-3660-43e7-8242-8d5d9590cddd"
      },
      "source": [
        "multiplication_table(4)"
      ],
      "execution_count": null,
      "outputs": [
        {
          "output_type": "execute_result",
          "data": {
            "text/plain": [
              "[[1, 2, 3, 4], [2, 4, 6, 8], [3, 6, 9, 12], [4, 8, 12, 16]]"
            ]
          },
          "metadata": {},
          "execution_count": 85
        }
      ]
    },
    {
      "cell_type": "markdown",
      "metadata": {
        "id": "CJ8cVCDjEQSO"
      },
      "source": [
        "### Triple Trouble\n",
        "#### https://www.codewars.com/kata/55d5434f269c0c3f1b000058"
      ]
    },
    {
      "cell_type": "code",
      "metadata": {
        "id": "jfzpsvAIc9NB"
      },
      "source": [
        "from collections import Counter\n",
        "\n",
        "def triple_double(num1, num2):\n",
        "    num1 = [int(num) for num in str(num1)]\n",
        "    num2 = [int(num) for num in str(num2)]\n",
        "    \n",
        "    group1 = Counter(num1)\n",
        "    group2 = Counter(num2)\n",
        "\n",
        "    for key, value in group1.items():\n",
        "        if value > 2 and key in group2.keys():\n",
        "            if group2[key] == 2:\n",
        "                print(key, value)\n",
        "                return 1\n",
        "    return 0\n"
      ],
      "execution_count": null,
      "outputs": []
    },
    {
      "cell_type": "code",
      "metadata": {
        "colab": {
          "base_uri": "https://localhost:8080/"
        },
        "id": "dnA9JjE2FP7z",
        "outputId": "1d71c4fb-ec3b-4c27-9600-ac6ce2c9a415"
      },
      "source": [
        "triple_double(10560002, 100)"
      ],
      "execution_count": null,
      "outputs": [
        {
          "output_type": "stream",
          "name": "stdout",
          "text": [
            "0 4\n"
          ]
        },
        {
          "output_type": "execute_result",
          "data": {
            "text/plain": [
              "1"
            ]
          },
          "metadata": {},
          "execution_count": 43
        }
      ]
    },
    {
      "cell_type": "markdown",
      "metadata": {
        "id": "cjLaDpX12YON"
      },
      "source": [
        "### Encrypt this! (25/09/2021)\n",
        "#### https://www.codewars.com/kata/5848565e273af816fb000449"
      ]
    },
    {
      "cell_type": "code",
      "metadata": {
        "id": "SPmmyDmyOq6N"
      },
      "source": [
        "def encrypt_this(text):\n",
        "    encrypt_word = []\n",
        "\n",
        "    for word in text.split():\n",
        "        word = list(word)\n",
        "        word[0] = str(ord(word[0]))\n",
        "        if len(word) > 2:\n",
        "            word[1], word[-1] = word[-1], word[1]\n",
        "        encrypt_word.append(''.join(word))\n",
        "\n",
        "    return ' '.join(encrypt_word)\n",
        "        "
      ],
      "execution_count": null,
      "outputs": []
    },
    {
      "cell_type": "code",
      "metadata": {
        "colab": {
          "base_uri": "https://localhost:8080/",
          "height": 36
        },
        "id": "o5r2dA222iFM",
        "outputId": "ee14d0ee-b446-4e02-fc60-42fa94373fcd"
      },
      "source": [
        "test = \"The more he saw the less he spoke\"\n",
        "encrypt_this(test)"
      ],
      "execution_count": null,
      "outputs": [
        {
          "output_type": "execute_result",
          "data": {
            "application/vnd.google.colaboratory.intrinsic+json": {
              "type": "string"
            },
            "text/plain": [
              "'84eh 109ero 104e 115wa 116eh 108sse 104e 115eokp'"
            ]
          },
          "metadata": {},
          "execution_count": 2
        }
      ]
    },
    {
      "cell_type": "markdown",
      "metadata": {
        "id": "PZOHNoyb389J"
      },
      "source": [
        "### A Rule of Divisibility by 13\n",
        "#### https://www.codewars.com/kata/564057bc348c7200bd0000ff/train/python"
      ]
    },
    {
      "cell_type": "code",
      "metadata": {
        "id": "rbzDcXnw2qBL"
      },
      "source": [
        "def thirt(n):\n",
        "    rem = [1,10,9,12,3,4]\n",
        "    digits = [int(dig) for dig in str(n)][::-1]\n",
        "    result = 0\n",
        "    \n",
        "    while len(digits) > 2:\n",
        "        for i in range(0, len(digits)):\n",
        "            result += digits[i] * rem[i % 6]\n",
        "        digits = [int(dig) for dig in str(result)][::-1]\n",
        "        result = 0\n",
        "\n",
        "    num = [str(n) for n in digits[::-1]]\n",
        "    num = int(''.join(num))\n",
        "\n",
        "    return num"
      ],
      "execution_count": null,
      "outputs": []
    },
    {
      "cell_type": "code",
      "metadata": {
        "colab": {
          "base_uri": "https://localhost:8080/"
        },
        "id": "p_qzAcKK4R1Z",
        "outputId": "2f901127-a774-45c9-bb8e-dd6c18a02a49"
      },
      "source": [
        "thirt(1234567)"
      ],
      "execution_count": null,
      "outputs": [
        {
          "output_type": "execute_result",
          "data": {
            "text/plain": [
              "87"
            ]
          },
          "metadata": {},
          "execution_count": 91
        }
      ]
    },
    {
      "cell_type": "code",
      "metadata": {
        "id": "38UytqERCbnN"
      },
      "source": [
        ""
      ],
      "execution_count": null,
      "outputs": []
    },
    {
      "cell_type": "markdown",
      "metadata": {
        "id": "6KWzuJ5DWFzw"
      },
      "source": [
        "### Meeting\n",
        "#### https://www.codewars.com/kata/59df2f8f08c6cec835000012"
      ]
    },
    {
      "cell_type": "code",
      "metadata": {
        "id": "qJW7MRUvWIR7"
      },
      "source": [
        "def meeting(s):\n",
        "    names_list = list()\n",
        "    for name in s.split(';'):\n",
        "        name = name.upper()\n",
        "        name = tuple(name.split(':')[::-1])\n",
        "        names_list.append(name)\n",
        "    names_list = sorted(names_list, key= lambda element: (element[0], element[1]))\n",
        "    res = str()\n",
        "    for e in names_list:\n",
        "        e = str(e).replace(\"'\", \"\")\n",
        "        res += str(e)\n",
        "    return res\n"
      ],
      "execution_count": null,
      "outputs": []
    },
    {
      "cell_type": "code",
      "metadata": {
        "colab": {
          "base_uri": "https://localhost:8080/",
          "height": 35
        },
        "id": "nnmyTlZMWoKv",
        "outputId": "6a58aa0d-47ce-4480-8a63-b41113399667"
      },
      "source": [
        "s = \"Fred:Corwill;Wilfred:Corwill;Barney:Tornbull;Betty:Tornbull;Bjon:Tornbull;Raphael:Corwill;Alfred:Corwill\"\n",
        "meeting(s)"
      ],
      "execution_count": null,
      "outputs": [
        {
          "output_type": "execute_result",
          "data": {
            "application/vnd.google.colaboratory.intrinsic+json": {
              "type": "string"
            },
            "text/plain": [
              "'(CORWILL, ALFRED)(CORWILL, FRED)(CORWILL, RAPHAEL)(CORWILL, WILFRED)(TORNBULL, BARNEY)(TORNBULL, BETTY)(TORNBULL, BJON)'"
            ]
          },
          "metadata": {},
          "execution_count": 46
        }
      ]
    },
    {
      "cell_type": "markdown",
      "metadata": {
        "id": "cua-bAupxV0o"
      },
      "source": [
        "### Luhn Algorithm\n",
        "#### https://www.codewars.com/kata/5418a1dd6d8216e18a0012b2"
      ]
    },
    {
      "cell_type": "code",
      "metadata": {
        "id": "6ykLlcK2WsLS"
      },
      "source": [
        "def validate(n):\n",
        "    n = [int(digit) for digit in str(n)][::-1]\n",
        "    for num in range(1, len(n), 2):\n",
        "        if len(str(n[num] * 2)) > 1:\n",
        "            n[num] = n[num] * 2 - 9\n",
        "        else:\n",
        "            n[num] *= 2\n",
        "    \n",
        "    return sum(n) % 10 == 0"
      ],
      "execution_count": null,
      "outputs": []
    },
    {
      "cell_type": "code",
      "metadata": {
        "colab": {
          "base_uri": "https://localhost:8080/"
        },
        "id": "xk0K__DRx_U1",
        "outputId": "889b5262-79c6-4cb0-f251-2c03086c41c9"
      },
      "source": [
        "validate(8511025042084)"
      ],
      "execution_count": null,
      "outputs": [
        {
          "output_type": "execute_result",
          "data": {
            "text/plain": [
              "True"
            ]
          },
          "metadata": {},
          "execution_count": 34
        }
      ]
    },
    {
      "cell_type": "markdown",
      "metadata": {
        "id": "Xi8-vmvC_YPA"
      },
      "source": [
        "### Count IP Addresses\n",
        "#### https://www.codewars.com/kata/526989a41034285187000de4/train/python\n",
        "\n",
        "#### 0.0.0.0 -> 255.255.255.255"
      ]
    },
    {
      "cell_type": "code",
      "metadata": {
        "id": "OPaf8EEeyC0x"
      },
      "source": [
        "def ips_between(start, end):\n",
        "    return abs(ip_to_int(start) - ip_to_int(end))\n",
        "\n",
        "def ip_to_int(ip):\n",
        "    ip = [int(i) for i in ip.split('.')][::-1]\n",
        "    int_result = 0\n",
        "    for index, value in enumerate(ip):\n",
        "        int_result += value * (2 ** (index * 8))\n",
        "    return int_result"
      ],
      "execution_count": null,
      "outputs": []
    },
    {
      "cell_type": "code",
      "metadata": {
        "id": "B-6g73tI0Lfu",
        "colab": {
          "base_uri": "https://localhost:8080/"
        },
        "outputId": "08b2a972-15cd-48aa-bd56-1b1ac563e6b1"
      },
      "source": [
        "# ip_to_int(\"64.233.187.99\")\n",
        "ips_between(\"10.0.0.0\", \"10.0.0.50\")"
      ],
      "execution_count": null,
      "outputs": [
        {
          "output_type": "execute_result",
          "data": {
            "text/plain": [
              "-50"
            ]
          },
          "metadata": {},
          "execution_count": 50
        }
      ]
    },
    {
      "cell_type": "markdown",
      "metadata": {
        "id": "aSk33xRNuOxq"
      },
      "source": [
        "### Gap in primes\n",
        "#### https://www.codewars.com/kata/561e9c843a2ef5a40c0000a4/train/python"
      ]
    },
    {
      "cell_type": "code",
      "metadata": {
        "id": "DZxdUTWE0Ldi"
      },
      "source": [
        "def gap(g, m, n):\n",
        "    last_prime = 2\n",
        "    for i in range(m, n+1):\n",
        "        prime = True\n",
        "\n",
        "        for j in range(2, int(n**.5)+1):\n",
        "            if i % j == 0:\n",
        "                prime = False\n",
        "                break\n",
        "\n",
        "        if prime:\n",
        "            if i - last_prime == g:\n",
        "                return [last_prime, i]\n",
        "            else:\n",
        "                last_prime = i"
      ],
      "execution_count": null,
      "outputs": []
    },
    {
      "cell_type": "code",
      "metadata": {
        "id": "SxDMA1YZ0La-",
        "colab": {
          "base_uri": "https://localhost:8080/"
        },
        "outputId": "e0d8139c-810e-4c2d-87c9-3aac9f696f20"
      },
      "source": [
        "gap(2, 100, 105)"
      ],
      "execution_count": null,
      "outputs": [
        {
          "output_type": "execute_result",
          "data": {
            "text/plain": [
              "[101, 103]"
            ]
          },
          "metadata": {},
          "execution_count": 2
        }
      ]
    },
    {
      "cell_type": "markdown",
      "metadata": {
        "id": "BRscwRK7yyof"
      },
      "source": [
        "### ProjectEuler: Multiples of 3 or 5\n",
        "#### https://projecteuler.net/problem=1\n",
        "If we list all the natural numbers below 10 that are multiples of 3 or 5, we get 3, 5, 6 and 9. The sum of these multiples is 23.\n",
        "\n",
        "Find the sum of all the multiples of 3 or 5 below 1000."
      ]
    },
    {
      "cell_type": "code",
      "metadata": {
        "id": "YpK6ntaP0LYd"
      },
      "source": [
        "#returns list of multiples within specified limit\n",
        "def find_multiples(multiple, limit):\n",
        "    result = list()\n",
        "    current_mult = multiple\n",
        "    for i in range(1, (limit + multiple) // multiple):\n",
        "            if current_mult * i < limit:\n",
        "                result.append(current_mult * i)\n",
        "    return result\n",
        "\n",
        "# returns the sum of the union of two sets\n",
        "def sum_multiples(multiples, limit):\n",
        "    set_1 = set(find_multiples(multiples[0], limit))\n",
        "    set_2 = set(find_multiples(multiples[1], limit))\n",
        "    return sum(set_1.union(set_2))\n",
        "    \n"
      ],
      "execution_count": null,
      "outputs": []
    },
    {
      "cell_type": "code",
      "metadata": {
        "colab": {
          "base_uri": "https://localhost:8080/"
        },
        "id": "OmSi-N9lzv88",
        "outputId": "eda58a4c-72e4-424e-9f2d-bc6e7ea2eb80"
      },
      "source": [
        "sum_multiples([3,5], 1000)"
      ],
      "execution_count": null,
      "outputs": [
        {
          "output_type": "execute_result",
          "data": {
            "text/plain": [
              "233168"
            ]
          },
          "metadata": {},
          "execution_count": 62
        }
      ]
    },
    {
      "cell_type": "markdown",
      "metadata": {
        "id": "iPumeRiIH2wf"
      },
      "source": [
        "### Codewars: Joesphus"
      ]
    },
    {
      "cell_type": "code",
      "metadata": {
        "id": "xBpxGZ-TH2eR"
      },
      "source": [
        "# n = people, k = skip value\n",
        "def josephus2(n,k):\n",
        "    n = list(range(1,n+1))\n",
        "    i = -1\n",
        "    while len(n) > 1:\n",
        "        i = (i + k) % len(n)\n",
        "        n = n[:i] + n[i+1:]\n",
        "        i -= 1\n",
        "\n",
        "    return n[0]"
      ],
      "execution_count": null,
      "outputs": []
    },
    {
      "cell_type": "code",
      "metadata": {
        "colab": {
          "base_uri": "https://localhost:8080/"
        },
        "id": "BZKf2tSJzv6u",
        "outputId": "33fafd79-78c6-4889-db8b-1306472df4cd"
      },
      "source": [
        "josephus_survivor(7,3)"
      ],
      "execution_count": null,
      "outputs": [
        {
          "output_type": "execute_result",
          "data": {
            "text/plain": [
              "3"
            ]
          },
          "metadata": {},
          "execution_count": 29
        }
      ]
    },
    {
      "cell_type": "markdown",
      "metadata": {
        "id": "meXOCIwgCM5F"
      },
      "source": [
        "### Codewars: ROT-13\n",
        "#### https://www.codewars.com/kata/52223df9e8f98c7aa7000062/train/python"
      ]
    },
    {
      "cell_type": "code",
      "metadata": {
        "id": "QFof32AXCMTD"
      },
      "source": [
        "import string\n",
        "\n",
        "def rot13(message):\n",
        "    # in dict comprehension the key is set once, no need to set again in else statement\n",
        "    alph_set = {key: chr((ord(key) + 13)) if ord(key) + 13 < 123 else chr(ord(key) - 13) for key in string.ascii_lowercase}\n",
        "    # for loop method\n",
        "    # alph_set_2 = dict()\n",
        "    # for key in string.ascii_lowercase:\n",
        "    #     if ord(key) + 13 < 123:\n",
        "    #         alph_set_2[key] = chr(ord(key) + 13)\n",
        "    #     else:\n",
        "    #         alph_set_2[key] = chr(ord(key) - 13)\n",
        "    result = ''\n",
        "    for i in message:\n",
        "        if i.isalpha():\n",
        "            if i.isupper():\n",
        "                result += alph_set[i.lower()].upper()\n",
        "            else:\n",
        "                result += alph_set[i.lower()].lower()\n",
        "        else:\n",
        "            result += i\n",
        "    return result"
      ],
      "execution_count": null,
      "outputs": []
    },
    {
      "cell_type": "code",
      "metadata": {
        "id": "ygM5Kjywzv4c",
        "colab": {
          "base_uri": "https://localhost:8080/",
          "height": 35
        },
        "outputId": "39101850-fb47-414c-f434-7abec735f7b5"
      },
      "source": [
        "rot13('1')"
      ],
      "execution_count": null,
      "outputs": [
        {
          "output_type": "execute_result",
          "data": {
            "application/vnd.google.colaboratory.intrinsic+json": {
              "type": "string"
            },
            "text/plain": [
              "'1'"
            ]
          },
          "metadata": {},
          "execution_count": 72
        }
      ]
    },
    {
      "cell_type": "code",
      "metadata": {
        "id": "f6bLpSNFzv2F",
        "colab": {
          "base_uri": "https://localhost:8080/"
        },
        "outputId": "8928dd4a-6195-489e-9fe2-e8a474fcf165"
      },
      "source": [
        "45*60"
      ],
      "execution_count": null,
      "outputs": [
        {
          "output_type": "execute_result",
          "data": {
            "text/plain": [
              "2700"
            ]
          },
          "metadata": {},
          "execution_count": 75
        }
      ]
    },
    {
      "cell_type": "markdown",
      "metadata": {
        "id": "WxzBVr7_CRN5"
      },
      "source": [
        "### Codewars: best travel\n",
        "#### https://www.codewars.com/kata/55e7280b40e1c4a06d0000aa/train/python"
      ]
    },
    {
      "cell_type": "code",
      "metadata": {
        "id": "2xwuoby0zvzh"
      },
      "source": [
        "from itertools import combinations\n",
        "# t = max sum of dist\n",
        "# k = towns\n",
        "# ls = list of distances\n",
        "def choose_best_sum(t, k, ls):\n",
        "    #list of total combinations\n",
        "    total_combinations = combinations(ls, k)\n",
        "    max_t = 0\n",
        "    for e in total_combinations:\n",
        "        current_t = sum(e)\n",
        "        if current_t > max_t and current_t <= t:\n",
        "            max_t = current_t\n",
        "\n",
        "        # max_t = sum(e)\n",
        "    if max_t == 0:\n",
        "        max_t = None\n",
        "    return max_t\n",
        "\n",
        "xs = [100, 76, 56, 44, 89, 73]\n",
        "choose_best_sum(230, 4, xs)"
      ],
      "execution_count": 1,
      "outputs": []
    },
    {
      "cell_type": "code",
      "metadata": {
        "id": "qMXSWomDzvpl"
      },
      "source": [
        ""
      ],
      "execution_count": null,
      "outputs": []
    },
    {
      "cell_type": "code",
      "metadata": {
        "id": "5TZruG7O0LKx"
      },
      "source": [
        ""
      ],
      "execution_count": null,
      "outputs": []
    }
  ]
}